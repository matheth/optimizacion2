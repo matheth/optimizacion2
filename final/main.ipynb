{
 "cells": [
  {
   "cell_type": "markdown",
   "metadata": {},
   "source": [
    "# Simon Evolutionary Programming "
   ]
  },
  {
   "cell_type": "markdown",
   "metadata": {},
   "source": [
    "## Chapter 5 - Computer Exercises"
   ]
  },
  {
   "cell_type": "markdown",
   "metadata": {},
   "source": [
    "### 5.9) 10-dimensional sphere function\n",
    "$$\n",
    "f(x) = \\sum_{i=1}^{10} x_i^2\n",
    "$$\n",
    "$$\n",
    "x^{*} = 0, f(x^{*}) = 0\n",
    "$$"
   ]
  },
  {
   "cell_type": "code",
   "execution_count": 116,
   "metadata": {},
   "outputs": [
    {
     "name": "stderr",
     "output_type": "stream",
     "text": [
      "100%|██████████| 10/10 [00:53<00:00,  5.38s/it]\n",
      " 25%|██▌       | 1/4 [00:53<02:41, 53.84s/it]"
     ]
    },
    {
     "name": "stdout",
     "output_type": "stream",
     "text": [
      "Exercise a) Average best solution obtained over 10 simulations: \n",
      "8.1627348861696\n",
      "[-0.22904655  1.07460626 -1.04136113 -0.07105547 -1.1092576   0.57772096\n",
      " -0.20063502  0.2340388   0.31338661 -0.8382441   0.38944142  1.49825917\n",
      " -0.08780549  0.99497361 -0.10852542]\n",
      "\n"
     ]
    },
    {
     "name": "stderr",
     "output_type": "stream",
     "text": [
      "100%|██████████| 10/10 [01:01<00:00,  6.13s/it]\n",
      " 50%|█████     | 2/4 [01:55<01:56, 58.24s/it]"
     ]
    },
    {
     "name": "stdout",
     "output_type": "stream",
     "text": [
      "Exercise b) Average best solution obtained over 10 simulations: \n",
      "2.740857226253671\n",
      "[-0.51186053 -0.05070403  0.02292225 -0.21825926 -0.49067736 -0.51069712\n",
      "  0.07357995 -0.294259    0.36672166 -0.24487774 -0.81851835  0.41332361\n",
      " -0.14029537 -0.4888516   0.73527352]\n",
      "\n"
     ]
    },
    {
     "name": "stderr",
     "output_type": "stream",
     "text": [
      "100%|██████████| 10/10 [00:59<00:00,  6.00s/it]\n",
      " 75%|███████▌  | 3/4 [02:55<00:59, 59.04s/it]"
     ]
    },
    {
     "name": "stdout",
     "output_type": "stream",
     "text": [
      "Exercise c) Average best solution obtained over 10 simulations: \n",
      "3.9352380351850145\n",
      "[-1.18146737  0.33585618  0.10880279  0.68656178  0.09510306 -0.55857552\n",
      "  0.23896221  0.12432619 -0.39179169 -0.64265889  0.88775148  0.22025217\n",
      " -0.26363765 -0.1817953   0.20994765]\n",
      "\n"
     ]
    },
    {
     "name": "stderr",
     "output_type": "stream",
     "text": [
      "100%|██████████| 10/10 [00:59<00:00,  5.96s/it]\n",
      "100%|██████████| 4/4 [03:54<00:00, 58.70s/it]"
     ]
    },
    {
     "name": "stdout",
     "output_type": "stream",
     "text": [
      "Exercise d) Average best solution obtained over 10 simulations: \n",
      "6.473468521290336\n",
      "[ 0.96093262  0.15675825 -0.78968498  0.05767354  0.1977625  -0.56101685\n",
      " -0.21306073  0.05636203 -0.10416736  0.88205618  0.7601064  -0.48522067\n",
      " -1.41964177  0.80476131  0.48068233]\n",
      "\n"
     ]
    },
    {
     "name": "stderr",
     "output_type": "stream",
     "text": [
      "\n"
     ]
    }
   ],
   "source": [
    "import numpy as np\n",
    "\n",
    "\n",
    "# Function to evaluate the sphere function\n",
    "def sphere_function(x):\n",
    "    return np.sum(x**2)\n",
    "\n",
    "\n",
    "# Function to initialize population within [-5.12, 5.12]\n",
    "def initialize_population(population_size, dim):\n",
    "    return np.random.uniform(low=-5.12, high=5.12, size=(population_size, dim))\n",
    "\n",
    "\n",
    "# Function to normalize cost function values to [1, 2]\n",
    "def normalize_cost_function_values(cost_values):\n",
    "    min_cost = np.min(cost_values)\n",
    "    max_cost = np.max(cost_values)\n",
    "    normalized_values = 1 + (cost_values - min_cost) * (1 / (max_cost - min_cost))\n",
    "    return normalized_values\n",
    "\n",
    "\n",
    "# Evolutionary Programming algorithm\n",
    "def evolutionary_programming(\n",
    "    cost_function, dim, population_size, generation_limit, beta=1.0, gamma=0.0, item=\"a\"\n",
    "):\n",
    "    population = initialize_population(population_size, dim)\n",
    "    best_solution = None\n",
    "    best_fitness = float(\"inf\")\n",
    "\n",
    "    for generation in range(generation_limit):\n",
    "        # Evaluate fitness (sphere function)\n",
    "        fitness = np.apply_along_axis(cost_function, 1, population)\n",
    "\n",
    "        # Normalize fitness values to [1, 2]\n",
    "        normalized_fitness = normalize_cost_function_values(fitness)\n",
    "\n",
    "        # Select parents (mu = population_size)\n",
    "        parents = population\n",
    "\n",
    "        # Mutation variance calculation: sqrt(beta * normalized_fitness + gamma)\n",
    "        if item == \"a\":\n",
    "            mutation_variance = np.sqrt(beta * normalized_fitness + gamma)\n",
    "        elif item == \"b\":\n",
    "            mutation_variance = beta * normalized_fitness**2\n",
    "        elif item == \"c\":\n",
    "            mutation_variance = beta * normalized_fitness**0.5\n",
    "        elif item == \"d\":\n",
    "            mutation_variance = beta * np.ones_like(normalized_fitness)\n",
    "\n",
    "        # Mutation: Gaussian mutation\n",
    "        offspring = np.array(\n",
    "            [\n",
    "                child\n",
    "                + np.random.normal(loc=0, scale=mutation_variance[index], size=dim)\n",
    "                for index, child in enumerate(parents)\n",
    "            ]\n",
    "        )\n",
    "\n",
    "        # Evaluate offspring fitness\n",
    "        offspring_fitness = np.apply_along_axis(cost_function, 1, offspring)\n",
    "\n",
    "        # Survival selection (comma selection)\n",
    "        population = offspring\n",
    "\n",
    "        # Track the best solution found so far\n",
    "        min_fitness = np.min(offspring_fitness)\n",
    "        if min_fitness < best_fitness:\n",
    "            best_fitness = min_fitness\n",
    "            best_solution = offspring[np.argmin(offspring_fitness)]\n",
    "\n",
    "    return best_solution, best_fitness\n",
    "\n",
    "\n",
    "# Monte Carlo simulations\n",
    "num_simulations = 10\n",
    "dim = 15\n",
    "population_size = 300\n",
    "generation_limit = 300\n",
    "beta = 1.024\n",
    "gamma = 0.0\n",
    "\n",
    "from tqdm import tqdm\n",
    "average_best_solution_items = []\n",
    "for item in tqdm([\"a\", \"b\", \"c\", \"d\"]):\n",
    "\n",
    "    results = []\n",
    "    for _ in tqdm(range(num_simulations)):\n",
    "        best_solution, best_fitness = evolutionary_programming(\n",
    "            sphere_function,\n",
    "            dim, population_size, generation_limit, beta, gamma, item=item\n",
    "        )\n",
    "        results.append(best_solution)\n",
    "\n",
    "    # Average the best solutions obtained over simulations\n",
    "    average_best_solution = np.mean(results, axis=0)\n",
    "    average_best_solution_items.append(average_best_solution)\n",
    "\n",
    "    print(\n",
    "        f\"Exercise {item}) Average best solution obtained over {num_simulations} simulations: \\n{sphere_function(average_best_solution)}\\n{average_best_solution}\\n\"\n",
    "    )"
   ]
  }
 ],
 "metadata": {
  "language_info": {
   "name": "python"
  }
 },
 "nbformat": 4,
 "nbformat_minor": 2
}
